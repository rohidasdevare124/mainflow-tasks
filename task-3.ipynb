{
 "cells": [
  {
   "cell_type": "code",
   "execution_count": null,
   "id": "9309360c-5a49-4b74-8584-06c1a9c4485a",
   "metadata": {},
   "outputs": [],
   "source": [
    "# Step 1: Import Libraries\n",
    "import pandas as pd\n",
    "import numpy as np\n",
    "import matplotlib.pyplot as plt\n",
    "import seaborn as sns\n",
    "from sklearn.preprocessing import StandardScaler\n",
    "from sklearn.cluster import KMeans\n",
    "from sklearn.decomposition import PCA\n",
    "from sklearn.metrics import silhouette_score"
   ]
  },
  {
   "cell_type": "code",
   "execution_count": null,
   "id": "d61941d5-a1b9-4424-b4a8-087366dc6ec2",
   "metadata": {},
   "outputs": [],
   "source": [
    "# Step 2: Load the Dataset\n",
    "df = pd.read_csv(\"customer_data.csv\")"
   ]
  },
  {
   "cell_type": "code",
   "execution_count": null,
   "id": "b8f528e2-d745-4d3f-a65c-103064354df8",
   "metadata": {},
   "outputs": [],
   "source": [
    "# Step 3: Explore the Dataset\n",
    "print(\"Shape:\", df.shape)\n",
    "print(\"\\nMissing values:\\n\", df.isnull().sum())\n",
    "print(\"\\nDuplicate rows:\", df.duplicated().sum())\n",
    "print(\"\\nData types:\\n\", df.dtypes)\n",
    "print(\"\\nSummary Statistics:\\n\", df.describe())"
   ]
  },
  {
   "cell_type": "code",
   "execution_count": null,
   "id": "0d0f8bb8-a5c5-4526-9e59-553f883a4de1",
   "metadata": {},
   "outputs": [],
   "source": [
    "# Step 4: Data Preprocessing\n",
    "features = df[[\"Age\", \"Annual Income (k$)\", \"Spending Score (1-100)\"]]\n",
    "scaler = StandardScaler()\n",
    "scaled_features = scaler.fit_transform(features)"
   ]
  },
  {
   "cell_type": "code",
   "execution_count": null,
   "id": "01b2758a-66a4-4809-ac70-6befb83858f1",
   "metadata": {},
   "outputs": [],
   "source": [
    "print(\"rohidas\")"
   ]
  },
  {
   "cell_type": "code",
   "execution_count": null,
   "id": "c83fa779-0384-4264-bee8-1bb40e79a3ac",
   "metadata": {},
   "outputs": [],
   "source": []
  }
 ],
 "metadata": {
  "kernelspec": {
   "display_name": "Python 3 (ipykernel)",
   "language": "python",
   "name": "python3"
  },
  "language_info": {
   "codemirror_mode": {
    "name": "ipython",
    "version": 3
   },
   "file_extension": ".py",
   "mimetype": "text/x-python",
   "name": "python",
   "nbconvert_exporter": "python",
   "pygments_lexer": "ipython3",
   "version": "3.13.3"
  }
 },
 "nbformat": 4,
 "nbformat_minor": 5
}
